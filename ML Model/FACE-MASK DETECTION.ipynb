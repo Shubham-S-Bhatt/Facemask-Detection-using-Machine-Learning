{
 "cells": [
  {
   "cell_type": "markdown",
   "metadata": {},
   "source": [
    "# FUNCTIONS"
   ]
  },
  {
   "cell_type": "code",
   "execution_count": 1,
   "metadata": {},
   "outputs": [],
   "source": [
    "def get_file_size(file_path):\n",
    "  size = os.path.getsize(file_path)\n",
    "  return size"
   ]
  },
  {
   "cell_type": "code",
   "execution_count": 2,
   "metadata": {},
   "outputs": [],
   "source": [
    "def convert_bytes(size, unit=None):\n",
    "  if unit == \"KB\":\n",
    "    return print('File size: ' + str(round(size/1024,3)) + ' kilobytes')\n",
    "  elif unit == \"MB\":\n",
    "    return print('File size: ' + str(round(size/(1024*1024),3)) + ' Megabytes')\n",
    "  else:\n",
    "    return print('File size: ' + str(size) + ' bytes') "
   ]
  },
  {
   "cell_type": "markdown",
   "metadata": {},
   "source": [
    "# IMPORTING PACKAGES"
   ]
  },
  {
   "cell_type": "code",
   "execution_count": 3,
   "metadata": {},
   "outputs": [],
   "source": [
    "# TRAINING\n",
    "from tensorflow.keras.layers import AveragePooling2D,Flatten,Dropout,Dense,Input\n",
    "from tensorflow.keras.preprocessing.image import ImageDataGenerator\n",
    "from tensorflow.keras.models import Model\n",
    "from tensorflow.keras.optimizers import Adam\n",
    "from tensorflow.keras.applications import MobileNetV2\n",
    "from tensorflow.keras.applications.mobilenet_v2 import preprocess_input\n",
    "from tensorflow.keras.preprocessing.image import img_to_array,load_img\n",
    "from tensorflow.keras.utils import to_categorical\n",
    "from sklearn.preprocessing import LabelBinarizer\n",
    "from sklearn.model_selection import train_test_split\n",
    "from sklearn.metrics import classification_report\n",
    "from imutils import paths\n",
    "import matplotlib.pyplot as plt\n",
    "import numpy as np\n",
    "import os\n",
    "import tensorflow as tf\n",
    "\n",
    "# VIDEO PLAYBACK\n",
    "from tensorflow.keras.models import load_model\n",
    "from imutils.video import VideoStream\n",
    "from playsound import playsound\n",
    "import imutils\n",
    "import time\n",
    "import cv2\n",
    "from plyer import notification\n"
   ]
  },
  {
   "cell_type": "markdown",
   "metadata": {},
   "source": [
    "# DATA PREPROCESSING"
   ]
  },
  {
   "cell_type": "code",
   "execution_count": 49,
   "metadata": {},
   "outputs": [],
   "source": [
    "INIT_LR = 0.0001\n",
    "EPOCHS = 30\n",
    "BS = 33"
   ]
  },
  {
   "cell_type": "code",
   "execution_count": 50,
   "metadata": {},
   "outputs": [],
   "source": [
    "dataset=r'C:\\Users\\shubh\\anaconda3\\envs\\PROJECT\\FACEMASK DETECTION\\dataset'\n",
    "imagePaths = list(paths.list_images(dataset))"
   ]
  },
  {
   "cell_type": "code",
   "execution_count": 51,
   "metadata": {},
   "outputs": [],
   "source": [
    "# Load dataset\n",
    "data=[]\n",
    "labels=[]\n",
    "\n",
    "for imagePath in imagePaths:\n",
    "    label = imagePath.split(os.path.sep)[-2]\n",
    "    \n",
    "    image = load_img(imagePath, target_size=(96,96))\n",
    "    image = img_to_array(image)\n",
    "    image = preprocess_input(image)\n",
    "    \n",
    "    data.append(image)\n",
    "    labels.append(label)"
   ]
  },
  {
   "cell_type": "code",
   "execution_count": 52,
   "metadata": {},
   "outputs": [],
   "source": [
    "data = np.array(data, dtype=\"float32\")   # convert the data and labels to NumPy arrays\n",
    "labels = np.array(labels)"
   ]
  },
  {
   "cell_type": "code",
   "execution_count": 53,
   "metadata": {
    "scrolled": true
   },
   "outputs": [
    {
     "name": "stderr",
     "output_type": "stream",
     "text": [
      "WARNING:matplotlib.image:Clipping input data to the valid range for imshow with RGB data ([0..1] for floats or [0..255] for integers).\n"
     ]
    },
    {
     "data": {
      "image/png": "[encoded data removed]",
      "text/plain": [
       "<Figure size 432x288 with 2 Axes>"
      ]
     },
     "metadata": {
      "needs_background": "light"
     },
     "output_type": "display_data"
    }
   ],
   "source": [
    "plt.figure()\n",
    "plt.imshow(data[88],cmap=\"gray\")\n",
    "plt.colorbar()\n",
    "plt.grid(False)\n",
    "plt.show()"
   ]
  },
  {
   "cell_type": "code",
   "execution_count": 54,
   "metadata": {},
   "outputs": [],
   "source": [
    "lb = LabelBinarizer()  # perform one-hot encoding on the labels\n",
    "labels = lb.fit_transform(labels)\n",
    "labels = to_categorical(labels)"
   ]
  },
  {
   "cell_type": "code",
   "execution_count": 55,
   "metadata": {},
   "outputs": [],
   "source": [
    "(trainX, testX, trainY, testY) = train_test_split(data, labels, test_size=0.20, stratify=labels, random_state=42)"
   ]
  },
  {
   "cell_type": "code",
   "execution_count": 56,
   "metadata": {},
   "outputs": [
    {
     "data": {
      "text/plain": [
       "800"
      ]
     },
     "execution_count": 56,
     "metadata": {},
     "output_type": "execute_result"
    }
   ],
   "source": [
    "len(data)"
   ]
  },
  {
   "cell_type": "code",
   "execution_count": 57,
   "metadata": {
    "scrolled": true
   },
   "outputs": [
    {
     "data": {
      "text/plain": [
       "(640, 96, 96, 3)"
      ]
     },
     "execution_count": 57,
     "metadata": {},
     "output_type": "execute_result"
    }
   ],
   "source": [
    "trainX.shape"
   ]
  },
  {
   "cell_type": "code",
   "execution_count": 58,
   "metadata": {
    "scrolled": true
   },
   "outputs": [],
   "source": [
    "aug = ImageDataGenerator(horizontal_flip=True)"
   ]
  },
  {
   "cell_type": "markdown",
   "metadata": {},
   "source": [
    "# ML MODEL - USING MobileNetV2"
   ]
  },
  {
   "cell_type": "code",
   "execution_count": 59,
   "metadata": {
    "scrolled": true
   },
   "outputs": [],
   "source": [
    "baseModel = MobileNetV2(input_shape=(96,96,3),alpha=0.35,weights=\"imagenet\",include_top=False,input_tensor=Input(shape=(96, 96, 3)))"
   ]
  },
  {
   "cell_type": "code",
   "execution_count": 60,
   "metadata": {},
   "outputs": [],
   "source": [
    "headModel = baseModel.output\n",
    "headModel = AveragePooling2D()(headModel)\n",
    "headModel = Flatten(input_shape=(128,128))(headModel)\n",
    "headModel = Dense(2, activation=\"softmax\")(headModel)\n",
    "\n",
    "model = Model(inputs=baseModel.input, outputs=headModel)"
   ]
  },
  {
   "cell_type": "code",
   "execution_count": 61,
   "metadata": {},
   "outputs": [],
   "source": [
    "for layer in baseModel.layers:\n",
    "    layer.trainable = False"
   ]
  },
  {
   "cell_type": "code",
   "execution_count": 62,
   "metadata": {
    "scrolled": true
   },
   "outputs": [
    {
     "name": "stdout",
     "output_type": "stream",
     "text": [
      "COMPILING MAIN MODEL...\n",
      "Epoch 1/30\n",
      "19/19 [==============================] - 7s 159ms/step - loss: 0.6463 - accuracy: 0.6718 - val_loss: 0.4983 - val_accuracy: 0.7812\n",
      "Epoch 2/30\n",
      "19/19 [==============================] - 2s 104ms/step - loss: 0.4375 - accuracy: 0.8335 - val_loss: 0.4230 - val_accuracy: 0.8500\n",
      "Epoch 3/30\n",
      "19/19 [==============================] - 2s 116ms/step - loss: 0.3823 - accuracy: 0.8735 - val_loss: 0.3790 - val_accuracy: 0.8438\n",
      "Epoch 4/30\n",
      "19/19 [==============================] - 3s 149ms/step - loss: 0.3554 - accuracy: 0.8760 - val_loss: 0.3509 - val_accuracy: 0.8500\n",
      "Epoch 5/30\n",
      "19/19 [==============================] - 3s 150ms/step - loss: 0.2935 - accuracy: 0.9182 - val_loss: 0.3405 - val_accuracy: 0.8562\n",
      "Epoch 6/30\n",
      "19/19 [==============================] - 3s 140ms/step - loss: 0.2995 - accuracy: 0.8930 - val_loss: 0.3207 - val_accuracy: 0.8875\n",
      "Epoch 7/30\n",
      "19/19 [==============================] - 3s 151ms/step - loss: 0.2498 - accuracy: 0.9356 - val_loss: 0.3102 - val_accuracy: 0.8875\n",
      "Epoch 8/30\n",
      "19/19 [==============================] - 3s 141ms/step - loss: 0.2484 - accuracy: 0.9129 - val_loss: 0.3080 - val_accuracy: 0.8687\n",
      "Epoch 9/30\n",
      "19/19 [==============================] - 2s 131ms/step - loss: 0.2292 - accuracy: 0.9182 - val_loss: 0.2995 - val_accuracy: 0.8750\n",
      "Epoch 10/30\n",
      "19/19 [==============================] - 3s 135ms/step - loss: 0.2195 - accuracy: 0.9238 - val_loss: 0.2964 - val_accuracy: 0.8687\n",
      "Epoch 11/30\n",
      "19/19 [==============================] - 3s 139ms/step - loss: 0.2196 - accuracy: 0.9381 - val_loss: 0.2880 - val_accuracy: 0.8813\n",
      "Epoch 12/30\n",
      "19/19 [==============================] - 3s 133ms/step - loss: 0.1997 - accuracy: 0.9470 - val_loss: 0.2979 - val_accuracy: 0.8750\n",
      "Epoch 13/30\n",
      "19/19 [==============================] - 3s 158ms/step - loss: 0.1848 - accuracy: 0.9501 - val_loss: 0.2848 - val_accuracy: 0.8813\n",
      "Epoch 14/30\n",
      "19/19 [==============================] - 3s 150ms/step - loss: 0.1942 - accuracy: 0.9451 - val_loss: 0.2839 - val_accuracy: 0.8813\n",
      "Epoch 15/30\n",
      "19/19 [==============================] - 3s 146ms/step - loss: 0.1961 - accuracy: 0.9289 - val_loss: 0.2809 - val_accuracy: 0.8875\n",
      "Epoch 16/30\n",
      "19/19 [==============================] - 3s 136ms/step - loss: 0.1695 - accuracy: 0.9334 - val_loss: 0.2847 - val_accuracy: 0.8813\n",
      "Epoch 17/30\n",
      "19/19 [==============================] - 3s 137ms/step - loss: 0.1605 - accuracy: 0.9578 - val_loss: 0.2779 - val_accuracy: 0.8938\n",
      "Epoch 18/30\n",
      "19/19 [==============================] - 3s 144ms/step - loss: 0.1555 - accuracy: 0.9723 - val_loss: 0.2828 - val_accuracy: 0.8813\n",
      "Epoch 19/30\n",
      "19/19 [==============================] - 3s 147ms/step - loss: 0.1665 - accuracy: 0.9500 - val_loss: 0.2775 - val_accuracy: 0.9000\n",
      "Epoch 20/30\n",
      "19/19 [==============================] - 3s 138ms/step - loss: 0.1530 - accuracy: 0.9503 - val_loss: 0.2901 - val_accuracy: 0.8750\n",
      "Epoch 21/30\n",
      "19/19 [==============================] - 3s 138ms/step - loss: 0.1574 - accuracy: 0.9503 - val_loss: 0.2858 - val_accuracy: 0.8875\n",
      "Epoch 22/30\n",
      "19/19 [==============================] - 3s 135ms/step - loss: 0.1404 - accuracy: 0.9757 - val_loss: 0.2791 - val_accuracy: 0.8938\n",
      "Epoch 23/30\n",
      "19/19 [==============================] - 3s 136ms/step - loss: 0.1392 - accuracy: 0.9697 - val_loss: 0.2759 - val_accuracy: 0.8813\n",
      "Epoch 24/30\n",
      "19/19 [==============================] - 3s 134ms/step - loss: 0.1358 - accuracy: 0.9737 - val_loss: 0.2827 - val_accuracy: 0.8875\n",
      "Epoch 25/30\n",
      "19/19 [==============================] - 3s 147ms/step - loss: 0.1391 - accuracy: 0.9723 - val_loss: 0.2764 - val_accuracy: 0.8938\n",
      "Epoch 26/30\n",
      "19/19 [==============================] - 3s 144ms/step - loss: 0.1206 - accuracy: 0.9774 - val_loss: 0.2756 - val_accuracy: 0.8938\n",
      "Epoch 27/30\n",
      "19/19 [==============================] - 3s 136ms/step - loss: 0.1082 - accuracy: 0.9742 - val_loss: 0.2760 - val_accuracy: 0.8938\n",
      "Epoch 28/30\n",
      "19/19 [==============================] - 3s 137ms/step - loss: 0.1120 - accuracy: 0.9740 - val_loss: 0.2902 - val_accuracy: 0.8750\n",
      "Epoch 29/30\n",
      "19/19 [==============================] - 3s 136ms/step - loss: 0.1085 - accuracy: 0.9771 - val_loss: 0.2807 - val_accuracy: 0.8938\n",
      "Epoch 30/30\n",
      "19/19 [==============================] - 3s 138ms/step - loss: 0.1104 - accuracy: 0.9805 - val_loss: 0.2753 - val_accuracy: 0.8938\n"
     ]
    }
   ],
   "source": [
    "print(\"COMPILING MAIN MODEL...\")\n",
    "model.compile(loss=\"binary_crossentropy\", optimizer='adam', metrics=[\"accuracy\"])\n",
    "\n",
    "H = model.fit(trainX, trainY, steps_per_epoch=len(trainX) // BS, \n",
    "          validation_data=(testX, testY), validation_steps=len(testX) // BS, epochs=EPOCHS)"
   ]
  },
  {
   "cell_type": "code",
   "execution_count": 63,
   "metadata": {
    "scrolled": true
   },
   "outputs": [
    {
     "name": "stdout",
     "output_type": "stream",
     "text": [
      "EVALUATING NETWORK...\n"
     ]
    }
   ],
   "source": [
    "print(\"EVALUATING NETWORK...\")\n",
    "predIdxs = model.predict(testX, batch_size=BS)\n",
    "predIdxs = np.argmax(predIdxs, axis=1)"
   ]
  },
  {
   "cell_type": "code",
   "execution_count": 64,
   "metadata": {
    "scrolled": true
   },
   "outputs": [
    {
     "name": "stdout",
     "output_type": "stream",
     "text": [
      "              precision    recall  f1-score   support\n",
      "\n",
      "   with_mask       0.88      0.91      0.90        80\n",
      "without_mask       0.91      0.88      0.89        80\n",
      "\n",
      "    accuracy                           0.89       160\n",
      "   macro avg       0.89      0.89      0.89       160\n",
      "weighted avg       0.89      0.89      0.89       160\n",
      "\n"
     ]
    }
   ],
   "source": [
    "print(classification_report(testY.argmax(axis=1), predIdxs, target_names=lb.classes_))"
   ]
  },
  {
   "cell_type": "code",
   "execution_count": 65,
   "metadata": {},
   "outputs": [
    {
     "name": "stdout",
     "output_type": "stream",
     "text": [
      "SAVING MASK DETECTION MODEL...\n"
     ]
    }
   ],
   "source": [
    "print(\"SAVING MASK DETECTION MODEL...\")\n",
    "model.save(r'C:\\Users\\shubh\\anaconda3\\envs\\PROJECT\\FACEMASK DETECTION\\model.h5',model)"
   ]
  },
  {
   "cell_type": "code",
   "execution_count": 66,
   "metadata": {},
   "outputs": [],
   "source": [
    "KERAS_MODEL_NAME=\"model.h5\""
   ]
  },
  {
   "cell_type": "code",
   "execution_count": 67,
   "metadata": {},
   "outputs": [
    {
     "name": "stdout",
     "output_type": "stream",
     "text": [
      "File size: 2.048 Megabytes\n"
     ]
    }
   ],
   "source": [
    "convert_bytes(get_file_size(r'C:\\Users\\shubh\\anaconda3\\envs\\PROJECT\\FACEMASK DETECTION\\model.h5'),\"MB\")"
   ]
  },
  {
   "cell_type": "markdown",
   "metadata": {},
   "source": [
    "# TENSORFLOW LITE CONVERSION"
   ]
  },
  {
   "cell_type": "code",
   "execution_count": 68,
   "metadata": {},
   "outputs": [],
   "source": [
    "TF_LITE_MODEL_FILE_NAME = \"tf_lite_model.tflite\""
   ]
  },
  {
   "cell_type": "code",
   "execution_count": 69,
   "metadata": {},
   "outputs": [
    {
     "name": "stdout",
     "output_type": "stream",
     "text": [
      "INFO:tensorflow:Assets written to: C:\\Users\\shubh\\AppData\\Local\\Temp\\tmpnfjm0ok6\\assets\n"
     ]
    },
    {
     "name": "stderr",
     "output_type": "stream",
     "text": [
      "INFO:tensorflow:Assets written to: C:\\Users\\shubh\\AppData\\Local\\Temp\\tmpnfjm0ok6\\assets\n"
     ]
    }
   ],
   "source": [
    "tf_lite_converter = tf.lite.TFLiteConverter.from_keras_model(model)\n",
    "tf_lite_converter.optimizations=[tf.lite.Optimize.OPTIMIZE_FOR_SIZE]\n",
    "#tf_lite_converter.optimizations = [tf.lite.Optimize.DEFAULT]\n",
    "#tf_lite_converter.target_spec.supported_types = [tf.float16]\n",
    "tflite_model = tf_lite_converter.convert()"
   ]
  },
  {
   "cell_type": "code",
   "execution_count": 70,
   "metadata": {},
   "outputs": [
    {
     "data": {
      "text/plain": [
       "597904"
      ]
     },
     "execution_count": 70,
     "metadata": {},
     "output_type": "execute_result"
    }
   ],
   "source": [
    "tflite_model_name = TF_LITE_MODEL_FILE_NAME\n",
    "open(tflite_model_name, \"wb\").write(tflite_model)"
   ]
  },
  {
   "cell_type": "code",
   "execution_count": 71,
   "metadata": {},
   "outputs": [
    {
     "name": "stdout",
     "output_type": "stream",
     "text": [
      "File size: 583.891 kilobytes\n"
     ]
    }
   ],
   "source": [
    "convert_bytes(get_file_size(TF_LITE_MODEL_FILE_NAME), \"KB\")"
   ]
  },
  {
   "cell_type": "markdown",
   "metadata": {},
   "source": [
    "# FACEMASK DETECTION VIDEO"
   ]
  },
  {
   "cell_type": "code",
   "execution_count": 27,
   "metadata": {},
   "outputs": [],
   "source": [
    "def detect_and_predict_mask(frame, faceNet, maskNet):\n",
    "    # grab the dimensions of the frame and then construct a blob from it\n",
    "    (h, w) = frame.shape[:2]\n",
    "    blob = cv2.dnn.blobFromImage(frame, 1.0, (300, 300),(104.0, 177.0, 123.0))\n",
    "\n",
    "    # pass the blob through the network and obtain the face detections\n",
    "    faceNet.setInput(blob)\n",
    "    detections = faceNet.forward()\n",
    "\n",
    "    # initialize our list of faces, their corresponding locations, and the list of predictions from our face mask network\n",
    "    faces = []\n",
    "    locs = []\n",
    "    preds = []\n",
    "\n",
    "    # loop over the detections\n",
    "    for i in range(0, detections.shape[2]):\n",
    "        # extract the confidence (i.e., probability) associated with the detection\n",
    "        confidence = detections[0, 0, i, 2]\n",
    "\n",
    "        # filter out weak detections by ensuring the confidence is greater than the minimum confidence\n",
    "        if confidence > args[\"confidence\"]:\n",
    "            # compute the (x, y)-coordinates of the bounding box for the object\n",
    "            box = detections[0, 0, i, 3:7] * np.array([w, h, w, h])\n",
    "            (startX, startY, endX, endY) = box.astype(\"int\")\n",
    "\n",
    "            # ensure the bounding boxes fall within the dimensions of the frame\n",
    "            (startX, startY) = (max(0, startX), max(0, startY))\n",
    "            (endX, endY) = (min(w - 1, endX), min(h - 1, endY))\n",
    "\n",
    "            # extract the face ROI, convert it from BGR to RGB channel ordering, resize it to 224x224, and preprocess it\n",
    "            face = frame[startY:endY, startX:endX]\n",
    "            face = cv2.cvtColor(face, cv2.COLOR_BGR2RGB)\n",
    "            face = cv2.resize(face, (224, 224))\n",
    "            face = img_to_array(face)\n",
    "            face = preprocess_input(face)\n",
    "\n",
    "            # add the face and bounding boxes to their respective lists\n",
    "            faces.append(face)\n",
    "            locs.append((startX, startY, endX, endY))\n",
    "\n",
    "    # only make a predictions if at least one face was detected\n",
    "    if len(faces) > 0:\n",
    "        # for faster inference we'll make batch predictions on *all* faces at the same time rather than one-by-one predictions in the above `for` loop\n",
    "        faces = np.array(faces, dtype=\"float32\")\n",
    "        preds = maskNet.predict(faces, batch_size=32)\n",
    "\n",
    "    # return a 2-tuple of the face locations and their corresponding locations\n",
    "    return (locs, preds)"
   ]
  },
  {
   "cell_type": "code",
   "execution_count": null,
   "metadata": {},
   "outputs": [],
   "source": [
    "# construct the argument parser and parse the arguments\n",
    "ap = argparse.ArgumentParser()\n",
    "ap.add_argument(\"-f\", \"--face\", type=str,\n",
    "    default=\"face_detector\",\n",
    "    help=\"path to face detector model directory\")\n",
    "ap.add_argument(\"-m\", \"--model\", type=str,\n",
    "    default=\"mask_detector.model\",\n",
    "    help=\"path to trained face mask detector model\")\n",
    "ap.add_argument(\"-c\", \"--confidence\", type=float, default=0.5,\n",
    "    help=\"minimum probability to filter weak detections\")\n",
    "args = vars(ap.parse_args())"
   ]
  },
  {
   "cell_type": "code",
   "execution_count": null,
   "metadata": {},
   "outputs": [],
   "source": [
    "# load our serialized face detector model from disk\n",
    "print(\"[INFO] loading face detector model...\")\n",
    "prototxtPath = os.path.sep.join([args[\"face\"], \"deploy.prototxt\"])\n",
    "weightsPath = os.path.sep.join([args[\"face\"],\n",
    "    \"res10_300x300_ssd_iter_140000.caffemodel\"])\n",
    "faceNet = cv2.dnn.readNet(prototxtPath, weightsPath)"
   ]
  },
  {
   "cell_type": "code",
   "execution_count": null,
   "metadata": {},
   "outputs": [],
   "source": [
    "# load the face mask detector model from disk\n",
    "print(\"[INFO] loading face mask detector model...\")\n",
    "maskNet = load_model(args[\"model\"])"
   ]
  },
  {
   "cell_type": "code",
   "execution_count": null,
   "metadata": {},
   "outputs": [],
   "source": [
    "# initialize the video stream and allow the camera sensor to warm up\n",
    "print(\"[INFO] starting video stream...\")\n",
    "vs = VideoStream(src=0).start()\n",
    "time.sleep(2.0)"
   ]
  },
  {
   "cell_type": "code",
   "execution_count": null,
   "metadata": {},
   "outputs": [],
   "source": [
    "# loop over the frames from the video stream\n",
    "while True:\n",
    "    # grab the frame from the threaded video stream and resize it to have a maximum width of 400 pixels\n",
    "    frame = vs.read()\n",
    "    frame = imutils.resize(frame, width=400)\n",
    "\n",
    "    # detect faces in the frame and determine if they are wearing a face mask or not\n",
    "    (locs, preds) = detect_and_predict_mask(frame, faceNet, maskNet)\n",
    "\n",
    "    # loop over the detected face locations and their corresponding locations\n",
    "    for (box, pred) in zip(locs, preds):\n",
    "        # unpack the bounding box and predictions\n",
    "        (startX, startY, endX, endY) = box\n",
    "        (mask, withoutMask) = pred\n",
    "\n",
    "        # determine the class label and color we'll use to draw the bounding box and text\n",
    "        label = \"Mask\" if mask > withoutMask else \"No Mask\"\n",
    "        color = (0, 255, 0) if label == \"Mask\" else (0, 0, 255)\n",
    "        if label == \"No Mask\":\n",
    "            notification.notify(\n",
    "                title = \"***No Mask Detected***\",\n",
    "                        message = \"Wear Mask to stay safe! \",\n",
    "                        app_icon = \"images/1.ico\",    #ico file should be downloaded\n",
    "                        timeout = 1\n",
    "                    )\n",
    "\n",
    "\n",
    "        # include the probability in the label\n",
    "        label = \"{}: {:.2f}%\".format(label, max(mask, withoutMask) * 100)\n",
    "\n",
    "        # display the label and bounding box rectangle on the output frame\n",
    "        cv2.putText(frame, label, (startX, startY - 10),\n",
    "            cv2.FONT_HERSHEY_SIMPLEX, 0.45, color, 2)\n",
    "        cv2.rectangle(frame, (startX, startY), (endX, endY), color, 2)\n",
    "\n",
    "        # Alarm when \"No Mask\" detected\n",
    "        if mask < withoutMask:\n",
    "            path = os.path.abspath(\"Alarm.wav\")\n",
    "            playsound(path)\n",
    "\n",
    "    # show the output frame\n",
    "    cv2.imshow(\"Frame\", frame)\n",
    "    key = cv2.waitKey(1) & 0xFF\n",
    "\n",
    "    # if the `q` key was pressed, break from the loop\n",
    "    if key == ord(\"q\"):\n",
    "        break\n",
    "\n",
    "# do a bit of cleanup\n",
    "cv2.destroyAllWindows()\n",
    "vs.stop()"
   ]
  }
 ],
 "metadata": {
  "kernelspec": {
   "display_name": "Python 3",
   "language": "python",
   "name": "python3"
  },
  "language_info": {
   "codemirror_mode": {
    "name": "ipython",
    "version": 3
   },
   "file_extension": ".py",
   "mimetype": "text/x-python",
   "name": "python",
   "nbconvert_exporter": "python",
   "pygments_lexer": "ipython3",
   "version": "3.8.5"
  }
 },
 "nbformat": 4,
 "nbformat_minor": 4
}
